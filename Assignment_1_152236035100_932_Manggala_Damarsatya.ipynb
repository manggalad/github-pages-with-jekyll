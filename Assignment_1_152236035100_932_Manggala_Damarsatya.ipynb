{
  "nbformat": 4,
  "nbformat_minor": 0,
  "metadata": {
    "colab": {
      "name": "Assignment 1_152236035100-932-Manggala Damarsatya.ipynb",
      "provenance": [],
      "authorship_tag": "ABX9TyNl/2gPtRymlxjNTp5eJHRX",
      "include_colab_link": true
    },
    "kernelspec": {
      "name": "python3",
      "display_name": "Python 3"
    },
    "language_info": {
      "name": "python"
    }
  },
  "cells": [
    {
      "cell_type": "markdown",
      "metadata": {
        "id": "view-in-github",
        "colab_type": "text"
      },
      "source": [
        "<a href=\"https://colab.research.google.com/github/manggalad/github-pages-with-jekyll/blob/master/Assignment_1_152236035100_932_Manggala_Damarsatya.ipynb\" target=\"_parent\"><img src=\"https://colab.research.google.com/assets/colab-badge.svg\" alt=\"Open In Colab\"/></a>"
      ]
    },
    {
      "cell_type": "code",
      "source": [
        "#Buat program untuk menghitung jumlah seluruh angka ganjil dalam suatu list\n",
        "# Input: list berisi angka-angka\n",
        "# Output: jumlah seluruh angka ganjil \n",
        "\n",
        "listNumber = [3,6,8,15,8,29,31,28,22,58,47,77,64,61]\n",
        "count = 0\n",
        "\n",
        "for number in listNumber:\n",
        "  if number % 2 != 0: # cek apakah angka bilangan ganjil\n",
        "    count = count + 1 # counter angka ganjil\n",
        "  else:\n",
        "    continue \n",
        "\n",
        "print(\"Jumlah seluruh angka ganjil =\", count)\n",
        "\n",
        "\n",
        "\n",
        "    "
      ],
      "metadata": {
        "id": "w50T6KEWrOia",
        "colab": {
          "base_uri": "https://localhost:8080/"
        },
        "outputId": "88c02295-e034-4650-9f2a-721ef7d58db0"
      },
      "execution_count": 7,
      "outputs": [
        {
          "output_type": "stream",
          "name": "stdout",
          "text": [
            "Jumlah seluruh angka ganjil = 7\n"
          ]
        }
      ]
    },
    {
      "cell_type": "code",
      "source": [
        "#Diberikan input suatu angka, tampilkan formasi piramida bintang dengan tinggi sesuai dengan angka yang diinputkan\n",
        "# Input: suatu angka (n)\n",
        "# Output: piramida dengan tinggi n\n",
        "\n",
        "def piramidBintang(baris):  \n",
        "  spasi = (2 * jumlahBaris) - 2  # membuat spasi sebelum tanda bintang\n",
        "  for i in range(0, jumlahBaris):  \n",
        "      for j in range(0, spasi):  \n",
        "          print(end=\" \")  \n",
        "      spasi -= 1  # jumlah spasi akan berkurang setiap loop  \n",
        "      for j in range(0, i + 1):    \n",
        "          print(\"* \", end=\"\") # untuk printing *  \n",
        "      print(\" \")\n",
        "\n",
        "jumlahBaris = int(input(\"Silakan masukkan jumlah baris: \"))\n",
        "piramidBintang(jumlahBaris)  "
      ],
      "metadata": {
        "colab": {
          "base_uri": "https://localhost:8080/"
        },
        "id": "lwRDCdvBmXC5",
        "outputId": "f2633347-82cb-43aa-cae7-0ff68834db41"
      },
      "execution_count": 9,
      "outputs": [
        {
          "output_type": "stream",
          "name": "stdout",
          "text": [
            "Silakan masukkan jumlah baris: 10\n",
            "                  *  \n",
            "                 * *  \n",
            "                * * *  \n",
            "               * * * *  \n",
            "              * * * * *  \n",
            "             * * * * * *  \n",
            "            * * * * * * *  \n",
            "           * * * * * * * *  \n",
            "          * * * * * * * * *  \n",
            "         * * * * * * * * * *  \n"
          ]
        }
      ]
    }
  ]
}